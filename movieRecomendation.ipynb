{
 "cells": [
  {
   "cell_type": "code",
   "execution_count": 1,
   "metadata": {},
   "outputs": [
    {
     "name": "stdout",
     "output_type": "stream",
     "text": [
      "Requirement already satisfied: pandas in c:\\users\\danie\\.conda\\envs\\movies\\lib\\site-packages (1.5.3)\n",
      "Requirement already satisfied: numpy in c:\\users\\danie\\.conda\\envs\\movies\\lib\\site-packages (1.23.5)\n",
      "Requirement already satisfied: tabulate in c:\\users\\danie\\.conda\\envs\\movies\\lib\\site-packages (0.9.0)\n",
      "Requirement already satisfied: python-dateutil>=2.8.1 in c:\\users\\danie\\.conda\\envs\\movies\\lib\\site-packages (from pandas) (2.8.2)\n",
      "Requirement already satisfied: pytz>=2020.1 in c:\\users\\danie\\.conda\\envs\\movies\\lib\\site-packages (from pandas) (2022.7)\n",
      "Requirement already satisfied: six>=1.5 in c:\\users\\danie\\.conda\\envs\\movies\\lib\\site-packages (from python-dateutil>=2.8.1->pandas) (1.16.0)\n"
     ]
    }
   ],
   "source": [
    "# install necessary libraries\n",
    "! pip install pandas numpy tabulate"
   ]
  },
  {
   "cell_type": "code",
   "execution_count": 2,
   "metadata": {},
   "outputs": [],
   "source": [
    "# import libraries\n",
    "import pandas as pd"
   ]
  },
  {
   "cell_type": "code",
   "execution_count": 3,
   "metadata": {},
   "outputs": [],
   "source": [
    "# load dataset\n",
    "df = pd.read_csv(\"movies.csv\")"
   ]
  },
  {
   "cell_type": "code",
   "execution_count": 4,
   "metadata": {},
   "outputs": [
    {
     "name": "stdout",
     "output_type": "stream",
     "text": [
      "<class 'pandas.core.frame.DataFrame'>\n",
      "RangeIndex: 9999 entries, 0 to 9998\n",
      "Data columns (total 9 columns):\n",
      " #   Column    Non-Null Count  Dtype  \n",
      "---  ------    --------------  -----  \n",
      " 0   MOVIES    9999 non-null   object \n",
      " 1   YEAR      9355 non-null   object \n",
      " 2   GENRE     9919 non-null   object \n",
      " 3   RATING    8179 non-null   float64\n",
      " 4   ONE-LINE  9999 non-null   object \n",
      " 5   STARS     9999 non-null   object \n",
      " 6   VOTES     8179 non-null   object \n",
      " 7   RunTime   7041 non-null   float64\n",
      " 8   Gross     460 non-null    object \n",
      "dtypes: float64(2), object(7)\n",
      "memory usage: 703.2+ KB\n"
     ]
    }
   ],
   "source": [
    "# data types of columns and missing values\n",
    "df.info()"
   ]
  },
  {
   "cell_type": "code",
   "execution_count": 5,
   "metadata": {},
   "outputs": [
    {
     "data": {
      "text/plain": "MOVIES       0.000000\nYEAR         6.440644\nGENRE        0.800080\nRATING      18.201820\nONE-LINE     0.000000\nSTARS        0.000000\nVOTES       18.201820\nRunTime     29.582958\nGross       95.399540\ndtype: float64"
     },
     "execution_count": 5,
     "metadata": {},
     "output_type": "execute_result"
    }
   ],
   "source": [
    "# percentage of missing values\n",
    "df.isnull().sum() / df.shape[0]*100"
   ]
  },
  {
   "cell_type": "code",
   "execution_count": 6,
   "metadata": {
    "collapsed": false
   },
   "outputs": [],
   "source": [
    "#remove \"\\n\n",
    "for col in ['GENRE', 'ONE-LINE', 'STARS']:\n",
    "    df[col] = df[col].str.replace(\"\\n\",\"\").str.strip()"
   ]
  },
  {
   "cell_type": "code",
   "execution_count": 7,
   "metadata": {
    "collapsed": false
   },
   "outputs": [
    {
     "data": {
      "text/plain": "                                MOVIES         YEAR  \\\n0                        Blood Red Sky       (2021)   \n1  Masters of the Universe: Revelation     (2021– )   \n2                     The Walking Dead  (2010–2022)   \n3                       Rick and Morty     (2013– )   \n4                      Army of Thieves       (2021)   \n\n                          GENRE  RATING  \\\n0      Action, Horror, Thriller     6.1   \n1  Animation, Action, Adventure     5.0   \n2       Drama, Horror, Thriller     8.2   \n3  Animation, Adventure, Comedy     9.2   \n4         Action, Crime, Horror     NaN   \n\n                                            ONE-LINE  \\\n0  A woman with a mysterious illness is forced in...   \n1  The war for Eternia begins again in what may b...   \n2  Sheriff Deputy Rick Grimes wakes up from a com...   \n3  An animated series that follows the exploits o...   \n4  A prequel, set before the events of Army of th...   \n\n                                               STARS    VOTES  RunTime Gross  \n0  Director:Peter Thorwarth|     Stars:Peri Baume...   21,062    121.0   NaN  \n1  Stars:Chris Wood, Sarah Michelle Gellar, Lena ...   17,870     25.0   NaN  \n2  Stars:Andrew Lincoln, Norman Reedus, Melissa M...  885,805     44.0   NaN  \n3  Stars:Justin Roiland, Chris Parnell, Spencer G...  414,849     23.0   NaN  \n4  Director:Matthias Schweighöfer|     Stars:Matt...      NaN      NaN   NaN  ",
      "text/html": "<div>\n<style scoped>\n    .dataframe tbody tr th:only-of-type {\n        vertical-align: middle;\n    }\n\n    .dataframe tbody tr th {\n        vertical-align: top;\n    }\n\n    .dataframe thead th {\n        text-align: right;\n    }\n</style>\n<table border=\"1\" class=\"dataframe\">\n  <thead>\n    <tr style=\"text-align: right;\">\n      <th></th>\n      <th>MOVIES</th>\n      <th>YEAR</th>\n      <th>GENRE</th>\n      <th>RATING</th>\n      <th>ONE-LINE</th>\n      <th>STARS</th>\n      <th>VOTES</th>\n      <th>RunTime</th>\n      <th>Gross</th>\n    </tr>\n  </thead>\n  <tbody>\n    <tr>\n      <th>0</th>\n      <td>Blood Red Sky</td>\n      <td>(2021)</td>\n      <td>Action, Horror, Thriller</td>\n      <td>6.1</td>\n      <td>A woman with a mysterious illness is forced in...</td>\n      <td>Director:Peter Thorwarth|     Stars:Peri Baume...</td>\n      <td>21,062</td>\n      <td>121.0</td>\n      <td>NaN</td>\n    </tr>\n    <tr>\n      <th>1</th>\n      <td>Masters of the Universe: Revelation</td>\n      <td>(2021– )</td>\n      <td>Animation, Action, Adventure</td>\n      <td>5.0</td>\n      <td>The war for Eternia begins again in what may b...</td>\n      <td>Stars:Chris Wood, Sarah Michelle Gellar, Lena ...</td>\n      <td>17,870</td>\n      <td>25.0</td>\n      <td>NaN</td>\n    </tr>\n    <tr>\n      <th>2</th>\n      <td>The Walking Dead</td>\n      <td>(2010–2022)</td>\n      <td>Drama, Horror, Thriller</td>\n      <td>8.2</td>\n      <td>Sheriff Deputy Rick Grimes wakes up from a com...</td>\n      <td>Stars:Andrew Lincoln, Norman Reedus, Melissa M...</td>\n      <td>885,805</td>\n      <td>44.0</td>\n      <td>NaN</td>\n    </tr>\n    <tr>\n      <th>3</th>\n      <td>Rick and Morty</td>\n      <td>(2013– )</td>\n      <td>Animation, Adventure, Comedy</td>\n      <td>9.2</td>\n      <td>An animated series that follows the exploits o...</td>\n      <td>Stars:Justin Roiland, Chris Parnell, Spencer G...</td>\n      <td>414,849</td>\n      <td>23.0</td>\n      <td>NaN</td>\n    </tr>\n    <tr>\n      <th>4</th>\n      <td>Army of Thieves</td>\n      <td>(2021)</td>\n      <td>Action, Crime, Horror</td>\n      <td>NaN</td>\n      <td>A prequel, set before the events of Army of th...</td>\n      <td>Director:Matthias Schweighöfer|     Stars:Matt...</td>\n      <td>NaN</td>\n      <td>NaN</td>\n      <td>NaN</td>\n    </tr>\n  </tbody>\n</table>\n</div>"
     },
     "execution_count": 7,
     "metadata": {},
     "output_type": "execute_result"
    }
   ],
   "source": [
    "df.head()"
   ]
  },
  {
   "cell_type": "code",
   "execution_count": 8,
   "metadata": {
    "collapsed": false
   },
   "outputs": [],
   "source": [
    "#extract directors\n",
    "def get_director(director):\n",
    "    if 'Director' in director or 'Directors' in director:\n",
    "        directors = director.strip().split(\"|\")[0]\n",
    "        return  directors.split(\":\")[1]\n",
    "    else:\n",
    "        return ''\n",
    "df['Director'] = df['STARS'].apply(lambda d: get_director(d))"
   ]
  },
  {
   "cell_type": "code",
   "execution_count": 9,
   "metadata": {
    "collapsed": false
   },
   "outputs": [],
   "source": [
    "#extract stars\n",
    "def get_star(star):\n",
    "    if 'Star' in star or 'Stars' in star:\n",
    "        return star.split(':')[-1]\n",
    "    else:\n",
    "        return ''\n",
    "\n",
    "df['Stars'] = df['STARS'].apply(lambda s: get_star(s))"
   ]
  },
  {
   "cell_type": "code",
   "execution_count": 10,
   "metadata": {
    "collapsed": false
   },
   "outputs": [
    {
     "data": {
      "text/plain": "                                               STARS               Director  \\\n0  Director:Peter Thorwarth|     Stars:Peri Baume...        Peter Thorwarth   \n1  Stars:Chris Wood, Sarah Michelle Gellar, Lena ...                          \n2  Stars:Andrew Lincoln, Norman Reedus, Melissa M...                          \n3  Stars:Justin Roiland, Chris Parnell, Spencer G...                          \n4  Director:Matthias Schweighöfer|     Stars:Matt...  Matthias Schweighöfer   \n\n                                               Stars  \n0  Peri Baumeister, Carl Anton Koch, Alexander Sc...  \n1  Chris Wood, Sarah Michelle Gellar, Lena Headey...  \n2  Andrew Lincoln, Norman Reedus, Melissa McBride...  \n3  Justin Roiland, Chris Parnell, Spencer Grammer...  \n4  Matthias Schweighöfer, Nathalie Emmanuel, Ruby...  ",
      "text/html": "<div>\n<style scoped>\n    .dataframe tbody tr th:only-of-type {\n        vertical-align: middle;\n    }\n\n    .dataframe tbody tr th {\n        vertical-align: top;\n    }\n\n    .dataframe thead th {\n        text-align: right;\n    }\n</style>\n<table border=\"1\" class=\"dataframe\">\n  <thead>\n    <tr style=\"text-align: right;\">\n      <th></th>\n      <th>STARS</th>\n      <th>Director</th>\n      <th>Stars</th>\n    </tr>\n  </thead>\n  <tbody>\n    <tr>\n      <th>0</th>\n      <td>Director:Peter Thorwarth|     Stars:Peri Baume...</td>\n      <td>Peter Thorwarth</td>\n      <td>Peri Baumeister, Carl Anton Koch, Alexander Sc...</td>\n    </tr>\n    <tr>\n      <th>1</th>\n      <td>Stars:Chris Wood, Sarah Michelle Gellar, Lena ...</td>\n      <td></td>\n      <td>Chris Wood, Sarah Michelle Gellar, Lena Headey...</td>\n    </tr>\n    <tr>\n      <th>2</th>\n      <td>Stars:Andrew Lincoln, Norman Reedus, Melissa M...</td>\n      <td></td>\n      <td>Andrew Lincoln, Norman Reedus, Melissa McBride...</td>\n    </tr>\n    <tr>\n      <th>3</th>\n      <td>Stars:Justin Roiland, Chris Parnell, Spencer G...</td>\n      <td></td>\n      <td>Justin Roiland, Chris Parnell, Spencer Grammer...</td>\n    </tr>\n    <tr>\n      <th>4</th>\n      <td>Director:Matthias Schweighöfer|     Stars:Matt...</td>\n      <td>Matthias Schweighöfer</td>\n      <td>Matthias Schweighöfer, Nathalie Emmanuel, Ruby...</td>\n    </tr>\n  </tbody>\n</table>\n</div>"
     },
     "execution_count": 10,
     "metadata": {},
     "output_type": "execute_result"
    }
   ],
   "source": [
    "df[['STARS','Director','Stars']].head()"
   ]
  },
  {
   "cell_type": "code",
   "execution_count": 11,
   "metadata": {
    "collapsed": false
   },
   "outputs": [
    {
     "data": {
      "text/plain": "0       2021\n1       2021\n2       2010\n3       2013\n4       2021\n        ... \n9994    2021\n9995    2021\n9996    2022\n9997    2021\n9998    2021\nName: Year, Length: 9999, dtype: object"
     },
     "execution_count": 11,
     "metadata": {},
     "output_type": "execute_result"
    }
   ],
   "source": [
    "#extracting year\n",
    "df['Year'] = df['YEAR'].str.extract(r'([0-9]{4}-.*|[0-9]{4})')\n",
    "df['Year']= df['Year'].str.strip().replace(\")\",\"\")\n",
    "df['Year']"
   ]
  },
  {
   "cell_type": "code",
   "execution_count": 12,
   "metadata": {
    "collapsed": false
   },
   "outputs": [
    {
     "data": {
      "text/plain": "                                   MOVIES         YEAR  \\\n0                           Blood Red Sky       (2021)   \n1     Masters of the Universe: Revelation     (2021– )   \n2                        The Walking Dead  (2010–2022)   \n3                          Rick and Morty     (2013– )   \n5                             Outer Banks     (2020– )   \n...                                   ...          ...   \n9959                               Sexify     (2021– )   \n9960                               Sexify     (2021– )   \n9961                               Sexify     (2021– )   \n9962                               Sexify     (2021– )   \n9963                          Castlevania  (2017–2021)   \n\n                             GENRE  RATING  \\\n0         Action, Horror, Thriller     6.1   \n1     Animation, Action, Adventure     5.0   \n2          Drama, Horror, Thriller     8.2   \n3     Animation, Adventure, Comedy     9.2   \n5             Action, Crime, Drama     7.6   \n...                            ...     ...   \n9959                 Comedy, Drama     6.8   \n9960                 Comedy, Drama     7.1   \n9961                 Comedy, Drama     6.9   \n9962                 Comedy, Drama     7.1   \n9963  Animation, Action, Adventure     8.2   \n\n                                               ONE-LINE  \\\n0     A woman with a mysterious illness is forced in...   \n1     The war for Eternia begins again in what may b...   \n2     Sheriff Deputy Rick Grimes wakes up from a com...   \n3     An animated series that follows the exploits o...   \n5     A group of teenagers from the wrong side of th...   \n...                                                 ...   \n9959  Monika's idea for gathering data is a hit, but...   \n9960  After facing their parents at Easter breakfast...   \n9961  After getting an anonymous tip about the copul...   \n9962  The big pitch at the university tech competiti...   \n9963  Lenore urges Hector to not test Camilla's pati...   \n\n                                                  STARS    VOTES  RunTime  \\\n0     Director:Peter Thorwarth|     Stars:Peri Baume...   21,062    121.0   \n1     Stars:Chris Wood, Sarah Michelle Gellar, Lena ...   17,870     25.0   \n2     Stars:Andrew Lincoln, Norman Reedus, Melissa M...  885,805     44.0   \n3     Stars:Justin Roiland, Chris Parnell, Spencer G...  414,849     23.0   \n5     Stars:Chase Stokes, Madelyn Cline, Madison Bai...   25,858     50.0   \n...                                                 ...      ...      ...   \n9959  Director:Kalina Alabrudzinska|     Stars:Aleks...      108     38.0   \n9960  Director:Kalina Alabrudzinska|     Stars:Aleks...      103     37.0   \n9961  Director:Kalina Alabrudzinska|     Stars:Aleks...       96     40.0   \n9962  Director:Kalina Alabrudzinska|     Stars:Aleks...      100     47.0   \n9963  Director:Sam Deats|     Stars:Richard Armitage...      911     24.0   \n\n                  Director                                              Stars  \\\n0          Peter Thorwarth  Peri Baumeister, Carl Anton Koch, Alexander Sc...   \n1                           Chris Wood, Sarah Michelle Gellar, Lena Headey...   \n2                           Andrew Lincoln, Norman Reedus, Melissa McBride...   \n3                           Justin Roiland, Chris Parnell, Spencer Grammer...   \n5                           Chase Stokes, Madelyn Cline, Madison Bailey, J...   \n...                    ...                                                ...   \n9959  Kalina Alabrudzinska  Aleksandra Skraba, Maria Sobocinska, Sandra Dr...   \n9960  Kalina Alabrudzinska  Aleksandra Skraba, Maria Sobocinska, Sandra Dr...   \n9961  Kalina Alabrudzinska  Aleksandra Skraba, Maria Sobocinska, Sandra Dr...   \n9962  Kalina Alabrudzinska  Aleksandra Skraba, Maria Sobocinska, Sandra Dr...   \n9963             Sam Deats  Richard Armitage, James Callis, Alejandra Reyn...   \n\n      Year  \n0     2021  \n1     2021  \n2     2010  \n3     2013  \n5     2020  \n...    ...  \n9959  2021  \n9960  2021  \n9961  2021  \n9962  2021  \n9963  2017  \n\n[6779 rows x 11 columns]",
      "text/html": "<div>\n<style scoped>\n    .dataframe tbody tr th:only-of-type {\n        vertical-align: middle;\n    }\n\n    .dataframe tbody tr th {\n        vertical-align: top;\n    }\n\n    .dataframe thead th {\n        text-align: right;\n    }\n</style>\n<table border=\"1\" class=\"dataframe\">\n  <thead>\n    <tr style=\"text-align: right;\">\n      <th></th>\n      <th>MOVIES</th>\n      <th>YEAR</th>\n      <th>GENRE</th>\n      <th>RATING</th>\n      <th>ONE-LINE</th>\n      <th>STARS</th>\n      <th>VOTES</th>\n      <th>RunTime</th>\n      <th>Director</th>\n      <th>Stars</th>\n      <th>Year</th>\n    </tr>\n  </thead>\n  <tbody>\n    <tr>\n      <th>0</th>\n      <td>Blood Red Sky</td>\n      <td>(2021)</td>\n      <td>Action, Horror, Thriller</td>\n      <td>6.1</td>\n      <td>A woman with a mysterious illness is forced in...</td>\n      <td>Director:Peter Thorwarth|     Stars:Peri Baume...</td>\n      <td>21,062</td>\n      <td>121.0</td>\n      <td>Peter Thorwarth</td>\n      <td>Peri Baumeister, Carl Anton Koch, Alexander Sc...</td>\n      <td>2021</td>\n    </tr>\n    <tr>\n      <th>1</th>\n      <td>Masters of the Universe: Revelation</td>\n      <td>(2021– )</td>\n      <td>Animation, Action, Adventure</td>\n      <td>5.0</td>\n      <td>The war for Eternia begins again in what may b...</td>\n      <td>Stars:Chris Wood, Sarah Michelle Gellar, Lena ...</td>\n      <td>17,870</td>\n      <td>25.0</td>\n      <td></td>\n      <td>Chris Wood, Sarah Michelle Gellar, Lena Headey...</td>\n      <td>2021</td>\n    </tr>\n    <tr>\n      <th>2</th>\n      <td>The Walking Dead</td>\n      <td>(2010–2022)</td>\n      <td>Drama, Horror, Thriller</td>\n      <td>8.2</td>\n      <td>Sheriff Deputy Rick Grimes wakes up from a com...</td>\n      <td>Stars:Andrew Lincoln, Norman Reedus, Melissa M...</td>\n      <td>885,805</td>\n      <td>44.0</td>\n      <td></td>\n      <td>Andrew Lincoln, Norman Reedus, Melissa McBride...</td>\n      <td>2010</td>\n    </tr>\n    <tr>\n      <th>3</th>\n      <td>Rick and Morty</td>\n      <td>(2013– )</td>\n      <td>Animation, Adventure, Comedy</td>\n      <td>9.2</td>\n      <td>An animated series that follows the exploits o...</td>\n      <td>Stars:Justin Roiland, Chris Parnell, Spencer G...</td>\n      <td>414,849</td>\n      <td>23.0</td>\n      <td></td>\n      <td>Justin Roiland, Chris Parnell, Spencer Grammer...</td>\n      <td>2013</td>\n    </tr>\n    <tr>\n      <th>5</th>\n      <td>Outer Banks</td>\n      <td>(2020– )</td>\n      <td>Action, Crime, Drama</td>\n      <td>7.6</td>\n      <td>A group of teenagers from the wrong side of th...</td>\n      <td>Stars:Chase Stokes, Madelyn Cline, Madison Bai...</td>\n      <td>25,858</td>\n      <td>50.0</td>\n      <td></td>\n      <td>Chase Stokes, Madelyn Cline, Madison Bailey, J...</td>\n      <td>2020</td>\n    </tr>\n    <tr>\n      <th>...</th>\n      <td>...</td>\n      <td>...</td>\n      <td>...</td>\n      <td>...</td>\n      <td>...</td>\n      <td>...</td>\n      <td>...</td>\n      <td>...</td>\n      <td>...</td>\n      <td>...</td>\n      <td>...</td>\n    </tr>\n    <tr>\n      <th>9959</th>\n      <td>Sexify</td>\n      <td>(2021– )</td>\n      <td>Comedy, Drama</td>\n      <td>6.8</td>\n      <td>Monika's idea for gathering data is a hit, but...</td>\n      <td>Director:Kalina Alabrudzinska|     Stars:Aleks...</td>\n      <td>108</td>\n      <td>38.0</td>\n      <td>Kalina Alabrudzinska</td>\n      <td>Aleksandra Skraba, Maria Sobocinska, Sandra Dr...</td>\n      <td>2021</td>\n    </tr>\n    <tr>\n      <th>9960</th>\n      <td>Sexify</td>\n      <td>(2021– )</td>\n      <td>Comedy, Drama</td>\n      <td>7.1</td>\n      <td>After facing their parents at Easter breakfast...</td>\n      <td>Director:Kalina Alabrudzinska|     Stars:Aleks...</td>\n      <td>103</td>\n      <td>37.0</td>\n      <td>Kalina Alabrudzinska</td>\n      <td>Aleksandra Skraba, Maria Sobocinska, Sandra Dr...</td>\n      <td>2021</td>\n    </tr>\n    <tr>\n      <th>9961</th>\n      <td>Sexify</td>\n      <td>(2021– )</td>\n      <td>Comedy, Drama</td>\n      <td>6.9</td>\n      <td>After getting an anonymous tip about the copul...</td>\n      <td>Director:Kalina Alabrudzinska|     Stars:Aleks...</td>\n      <td>96</td>\n      <td>40.0</td>\n      <td>Kalina Alabrudzinska</td>\n      <td>Aleksandra Skraba, Maria Sobocinska, Sandra Dr...</td>\n      <td>2021</td>\n    </tr>\n    <tr>\n      <th>9962</th>\n      <td>Sexify</td>\n      <td>(2021– )</td>\n      <td>Comedy, Drama</td>\n      <td>7.1</td>\n      <td>The big pitch at the university tech competiti...</td>\n      <td>Director:Kalina Alabrudzinska|     Stars:Aleks...</td>\n      <td>100</td>\n      <td>47.0</td>\n      <td>Kalina Alabrudzinska</td>\n      <td>Aleksandra Skraba, Maria Sobocinska, Sandra Dr...</td>\n      <td>2021</td>\n    </tr>\n    <tr>\n      <th>9963</th>\n      <td>Castlevania</td>\n      <td>(2017–2021)</td>\n      <td>Animation, Action, Adventure</td>\n      <td>8.2</td>\n      <td>Lenore urges Hector to not test Camilla's pati...</td>\n      <td>Director:Sam Deats|     Stars:Richard Armitage...</td>\n      <td>911</td>\n      <td>24.0</td>\n      <td>Sam Deats</td>\n      <td>Richard Armitage, James Callis, Alejandra Reyn...</td>\n      <td>2017</td>\n    </tr>\n  </tbody>\n</table>\n<p>6779 rows × 11 columns</p>\n</div>"
     },
     "execution_count": 12,
     "metadata": {},
     "output_type": "execute_result"
    }
   ],
   "source": [
    "#drop gross column\n",
    "df = df.drop('Gross', axis=1)\n",
    "df.dropna()"
   ]
  },
  {
   "cell_type": "code",
   "execution_count": 13,
   "metadata": {
    "collapsed": false
   },
   "outputs": [
    {
     "name": "stdout",
     "output_type": "stream",
     "text": [
      "|    | MOVIES                                 | GENRE                        | Director              | VOTES     |\n",
      "|---:|:---------------------------------------|:-----------------------------|:----------------------|:----------|\n",
      "|  0 | Blood Red Sky                          | Action, Horror, Thriller     | Peter Thorwarth       | 21,062    |\n",
      "|  1 | Masters of the Universe: Revelation    | Animation, Action, Adventure |                       | 17,870    |\n",
      "|  2 | The Walking Dead                       | Drama, Horror, Thriller      |                       | 885,805   |\n",
      "|  3 | Rick and Morty                         | Animation, Adventure, Comedy |                       | 414,849   |\n",
      "|  4 | Army of Thieves                        | Action, Crime, Horror        | Matthias Schweighöfer | nan       |\n",
      "|  5 | Outer Banks                            | Action, Crime, Drama         |                       | 25,858    |\n",
      "|  6 | The Last Letter from Your Lover        | Drama, Romance               | Augustine Frizzell    | 5,283     |\n",
      "|  7 | Dexter                                 | Crime, Drama, Mystery        |                       | 665,387   |\n",
      "|  8 | Never Have I Ever                      | Comedy                       |                       | 34,530    |\n",
      "|  9 | Virgin River                           | Drama, Romance               |                       | 27,279    |\n",
      "| 10 | Gunpowder Milkshake                    | Action, Adventure, Thriller  | Navot Papushado       | 17,989    |\n",
      "| 11 | Lucifer                                | Crime, Drama, Fantasy        |                       | 264,222   |\n",
      "| 12 | Fear Street: 1994                      | Drama, Horror, Mystery       | Leigh Janiak          | 50,148    |\n",
      "| 13 | Sex/Life                               | Comedy, Drama, Romance       |                       | 12,172    |\n",
      "| 14 | American Horror Story                  | Drama, Horror, Thriller      |                       | 286,488   |\n",
      "| 15 | Grey's Anatomy                         | Drama, Romance               |                       | 266,258   |\n",
      "| 16 | Breaking Bad                           | Crime, Drama, Thriller       |                       | 1,552,311 |\n",
      "| 17 | The Good Doctor                        | Drama                        |                       | 70,871    |\n",
      "| 18 | Atypical                               | Comedy, Drama                |                       | 71,544    |\n",
      "| 19 | Stranger Things                        | Drama, Fantasy, Horror       |                       | 885,856   |\n",
      "| 20 | Fear Street: 1978                      | Drama, Horror, Mystery       | Leigh Janiak          | 36,634    |\n",
      "| 21 | Friends                                | Comedy, Romance              |                       | 880,918   |\n",
      "| 22 | The Flash                              | Action, Adventure, Drama     |                       | 320,264   |\n",
      "| 23 | Peaky Blinders                         | Crime, Drama                 |                       | 393,414   |\n",
      "| 24 | He-Man and the Masters of the Universe | Animation, Action, Adventure |                       | nan       |\n",
      "| 25 | Chernobyl                              | Drama, History, Romance      | Danila Kozlovskiy     | 4,681     |\n",
      "| 26 | Vikings                                | Action, Adventure, Drama     |                       | 459,913   |\n",
      "| 27 | Better Call Saul                       | Crime, Drama                 |                       | 347,857   |\n",
      "| 28 | Supernatural                           | Drama, Fantasy, Horror       |                       | 404,273   |\n",
      "| 29 | The Blacklist                          | Crime, Drama, Mystery        |                       | 213,522   |\n"
     ]
    }
   ],
   "source": [
    "new_df = df.loc[:,['MOVIES', 'GENRE', 'Director', 'VOTES']]\n",
    "print(new_df.head(30).to_markdown())"
   ]
  },
  {
   "cell_type": "code",
   "execution_count": 18,
   "outputs": [],
   "source": [
    "# fill null ratings with 0\n",
    "df['RATING'] = df['RATING'].fillna(0)\n",
    "\n",
    "# fill null votes with zero\n",
    "\n",
    "df['VOTES'] = df['VOTES'].fillna(0)\n",
    "\n",
    "# fill null runtime with 0s\n",
    "df['RunTime'] = df['RunTime'].fillna(0)\n",
    "\n",
    "# fill missing years with unknown\n",
    "df['Year'] = df['Year'].fillna('unknown')"
   ],
   "metadata": {
    "collapsed": false
   }
  },
  {
   "cell_type": "code",
   "execution_count": 19,
   "outputs": [
    {
     "data": {
      "text/plain": "                                 MOVIES         YEAR  \\\n0                         Blood Red Sky       (2021)   \n1   Masters of the Universe: Revelation     (2021– )   \n2                      The Walking Dead  (2010–2022)   \n3                        Rick and Morty     (2013– )   \n4                       Army of Thieves       (2021)   \n5                           Outer Banks     (2020– )   \n6       The Last Letter from Your Lover       (2021)   \n7                                Dexter  (2006–2013)   \n8                     Never Have I Ever     (2020– )   \n9                          Virgin River     (2019– )   \n10                  Gunpowder Milkshake       (2021)   \n11                              Lucifer  (2016–2021)   \n12                    Fear Street: 1994       (2021)   \n13                             Sex/Life     (2021– )   \n14                American Horror Story     (2011– )   \n15                       Grey's Anatomy     (2005– )   \n16                         Breaking Bad  (2008–2013)   \n17                      The Good Doctor     (2017– )   \n18                             Atypical  (2017–2021)   \n19                      Stranger Things     (2016– )   \n\n                           GENRE  RATING  \\\n0       Action, Horror, Thriller     6.1   \n1   Animation, Action, Adventure     5.0   \n2        Drama, Horror, Thriller     8.2   \n3   Animation, Adventure, Comedy     9.2   \n4          Action, Crime, Horror     0.0   \n5           Action, Crime, Drama     7.6   \n6                 Drama, Romance     6.8   \n7          Crime, Drama, Mystery     8.6   \n8                         Comedy     7.9   \n9                 Drama, Romance     7.4   \n10   Action, Adventure, Thriller     6.0   \n11         Crime, Drama, Fantasy     8.1   \n12        Drama, Horror, Mystery     6.2   \n13        Comedy, Drama, Romance     5.4   \n14       Drama, Horror, Thriller     8.0   \n15                Drama, Romance     7.5   \n16        Crime, Drama, Thriller     9.4   \n17                         Drama     8.1   \n18                 Comedy, Drama     8.3   \n19        Drama, Fantasy, Horror     8.7   \n\n                                             ONE-LINE  \\\n0   A woman with a mysterious illness is forced in...   \n1   The war for Eternia begins again in what may b...   \n2   Sheriff Deputy Rick Grimes wakes up from a com...   \n3   An animated series that follows the exploits o...   \n4   A prequel, set before the events of Army of th...   \n5   A group of teenagers from the wrong side of th...   \n6   A pair of interwoven stories set in the past a...   \n7   By day, mild-mannered Dexter is a blood-spatte...   \n8   The complicated life of a modern-day first gen...   \n9   Seeking a fresh start, nurse practitioner Meli...   \n10  Three generations of women fight back against ...   \n11  Lucifer Morningstar has decided he's had enoug...   \n12  A circle of teenage friends accidentally encou...   \n13  A suburban mother of two takes a fantasy-charg...   \n14  An anthology series centering on different cha...   \n15  A drama centered on the personal and professio...   \n16  A high school chemistry teacher diagnosed with...   \n17  Shaun Murphy, a young surgeon with autism and ...   \n18  Sam, an 18-year-old on the autism spectrum, de...   \n19  When a young boy disappears, his mother, a pol...   \n\n                                                STARS      VOTES  RunTime  \\\n0   Director:Peter Thorwarth|     Stars:Peri Baume...     21,062    121.0   \n1   Stars:Chris Wood, Sarah Michelle Gellar, Lena ...     17,870     25.0   \n2   Stars:Andrew Lincoln, Norman Reedus, Melissa M...    885,805     44.0   \n3   Stars:Justin Roiland, Chris Parnell, Spencer G...    414,849     23.0   \n4   Director:Matthias Schweighöfer|     Stars:Matt...          0      0.0   \n5   Stars:Chase Stokes, Madelyn Cline, Madison Bai...     25,858     50.0   \n6   Director:Augustine Frizzell|     Stars:Shailen...      5,283    110.0   \n7   Stars:Michael C. Hall, Jennifer Carpenter, Dav...    665,387     53.0   \n8   Stars:Maitreyi Ramakrishnan, Poorna Jagannatha...     34,530     30.0   \n9   Stars:Alexandra Breckenridge, Martin Henderson...     27,279     44.0   \n10  Director:Navot Papushado|     Stars:Karen Gill...     17,989    114.0   \n11  Stars:Tom Ellis, Lesley-Ann Brandt, Lauren Ger...    264,222     42.0   \n12  Director:Leigh Janiak|     Stars:Kiana Madeira...     50,148    107.0   \n13  Stars:Sarah Shahi, Mike Vogel, Adam Demos, Mar...     12,172      0.0   \n14  Stars:Lady Gaga, Kathy Bates, Angela Bassett, ...    286,488     60.0   \n15  Stars:Ellen Pompeo, Chandra Wilson, James Pick...    266,258     41.0   \n16  Stars:Bryan Cranston, Aaron Paul, Anna Gunn, B...  1,552,311     49.0   \n17  Stars:Freddie Highmore, Hill Harper, Richard S...     70,871     41.0   \n18  Stars:Jennifer Jason Leigh, Keir Gilchrist, Br...     71,544     30.0   \n19  Stars:Millie Bobby Brown, Finn Wolfhard, Winon...    885,856     51.0   \n\n                 Director                                              Stars  \\\n0         Peter Thorwarth  Peri Baumeister, Carl Anton Koch, Alexander Sc...   \n1                          Chris Wood, Sarah Michelle Gellar, Lena Headey...   \n2                          Andrew Lincoln, Norman Reedus, Melissa McBride...   \n3                          Justin Roiland, Chris Parnell, Spencer Grammer...   \n4   Matthias Schweighöfer  Matthias Schweighöfer, Nathalie Emmanuel, Ruby...   \n5                          Chase Stokes, Madelyn Cline, Madison Bailey, J...   \n6      Augustine Frizzell  Shailene Woodley, Joe Alwyn, Wendy Nottingham,...   \n7                          Michael C. Hall, Jennifer Carpenter, David Zay...   \n8                          Maitreyi Ramakrishnan, Poorna Jagannathan, Dar...   \n9                          Alexandra Breckenridge, Martin Henderson, Coli...   \n10        Navot Papushado  Karen Gillan, Lena Headey, Carla Gugino, Miche...   \n11                         Tom Ellis, Lesley-Ann Brandt, Lauren German, D...   \n12           Leigh Janiak  Kiana Madeira, Olivia Scott Welch, Benjamin Fl...   \n13                         Sarah Shahi, Mike Vogel, Adam Demos, Margaret ...   \n14                         Lady Gaga, Kathy Bates, Angela Bassett, Sarah ...   \n15                         Ellen Pompeo, Chandra Wilson, James Pickens Jr...   \n16                         Bryan Cranston, Aaron Paul, Anna Gunn, Betsy B...   \n17                         Freddie Highmore, Hill Harper, Richard Schiff,...   \n18                         Jennifer Jason Leigh, Keir Gilchrist, Brigette...   \n19                         Millie Bobby Brown, Finn Wolfhard, Winona Ryde...   \n\n    Year  \n0   2021  \n1   2021  \n2   2010  \n3   2013  \n4   2021  \n5   2020  \n6   2021  \n7   2006  \n8   2020  \n9   2019  \n10  2021  \n11  2016  \n12  2021  \n13  2021  \n14  2011  \n15  2005  \n16  2008  \n17  2017  \n18  2017  \n19  2016  ",
      "text/html": "<div>\n<style scoped>\n    .dataframe tbody tr th:only-of-type {\n        vertical-align: middle;\n    }\n\n    .dataframe tbody tr th {\n        vertical-align: top;\n    }\n\n    .dataframe thead th {\n        text-align: right;\n    }\n</style>\n<table border=\"1\" class=\"dataframe\">\n  <thead>\n    <tr style=\"text-align: right;\">\n      <th></th>\n      <th>MOVIES</th>\n      <th>YEAR</th>\n      <th>GENRE</th>\n      <th>RATING</th>\n      <th>ONE-LINE</th>\n      <th>STARS</th>\n      <th>VOTES</th>\n      <th>RunTime</th>\n      <th>Director</th>\n      <th>Stars</th>\n      <th>Year</th>\n    </tr>\n  </thead>\n  <tbody>\n    <tr>\n      <th>0</th>\n      <td>Blood Red Sky</td>\n      <td>(2021)</td>\n      <td>Action, Horror, Thriller</td>\n      <td>6.1</td>\n      <td>A woman with a mysterious illness is forced in...</td>\n      <td>Director:Peter Thorwarth|     Stars:Peri Baume...</td>\n      <td>21,062</td>\n      <td>121.0</td>\n      <td>Peter Thorwarth</td>\n      <td>Peri Baumeister, Carl Anton Koch, Alexander Sc...</td>\n      <td>2021</td>\n    </tr>\n    <tr>\n      <th>1</th>\n      <td>Masters of the Universe: Revelation</td>\n      <td>(2021– )</td>\n      <td>Animation, Action, Adventure</td>\n      <td>5.0</td>\n      <td>The war for Eternia begins again in what may b...</td>\n      <td>Stars:Chris Wood, Sarah Michelle Gellar, Lena ...</td>\n      <td>17,870</td>\n      <td>25.0</td>\n      <td></td>\n      <td>Chris Wood, Sarah Michelle Gellar, Lena Headey...</td>\n      <td>2021</td>\n    </tr>\n    <tr>\n      <th>2</th>\n      <td>The Walking Dead</td>\n      <td>(2010–2022)</td>\n      <td>Drama, Horror, Thriller</td>\n      <td>8.2</td>\n      <td>Sheriff Deputy Rick Grimes wakes up from a com...</td>\n      <td>Stars:Andrew Lincoln, Norman Reedus, Melissa M...</td>\n      <td>885,805</td>\n      <td>44.0</td>\n      <td></td>\n      <td>Andrew Lincoln, Norman Reedus, Melissa McBride...</td>\n      <td>2010</td>\n    </tr>\n    <tr>\n      <th>3</th>\n      <td>Rick and Morty</td>\n      <td>(2013– )</td>\n      <td>Animation, Adventure, Comedy</td>\n      <td>9.2</td>\n      <td>An animated series that follows the exploits o...</td>\n      <td>Stars:Justin Roiland, Chris Parnell, Spencer G...</td>\n      <td>414,849</td>\n      <td>23.0</td>\n      <td></td>\n      <td>Justin Roiland, Chris Parnell, Spencer Grammer...</td>\n      <td>2013</td>\n    </tr>\n    <tr>\n      <th>4</th>\n      <td>Army of Thieves</td>\n      <td>(2021)</td>\n      <td>Action, Crime, Horror</td>\n      <td>0.0</td>\n      <td>A prequel, set before the events of Army of th...</td>\n      <td>Director:Matthias Schweighöfer|     Stars:Matt...</td>\n      <td>0</td>\n      <td>0.0</td>\n      <td>Matthias Schweighöfer</td>\n      <td>Matthias Schweighöfer, Nathalie Emmanuel, Ruby...</td>\n      <td>2021</td>\n    </tr>\n    <tr>\n      <th>5</th>\n      <td>Outer Banks</td>\n      <td>(2020– )</td>\n      <td>Action, Crime, Drama</td>\n      <td>7.6</td>\n      <td>A group of teenagers from the wrong side of th...</td>\n      <td>Stars:Chase Stokes, Madelyn Cline, Madison Bai...</td>\n      <td>25,858</td>\n      <td>50.0</td>\n      <td></td>\n      <td>Chase Stokes, Madelyn Cline, Madison Bailey, J...</td>\n      <td>2020</td>\n    </tr>\n    <tr>\n      <th>6</th>\n      <td>The Last Letter from Your Lover</td>\n      <td>(2021)</td>\n      <td>Drama, Romance</td>\n      <td>6.8</td>\n      <td>A pair of interwoven stories set in the past a...</td>\n      <td>Director:Augustine Frizzell|     Stars:Shailen...</td>\n      <td>5,283</td>\n      <td>110.0</td>\n      <td>Augustine Frizzell</td>\n      <td>Shailene Woodley, Joe Alwyn, Wendy Nottingham,...</td>\n      <td>2021</td>\n    </tr>\n    <tr>\n      <th>7</th>\n      <td>Dexter</td>\n      <td>(2006–2013)</td>\n      <td>Crime, Drama, Mystery</td>\n      <td>8.6</td>\n      <td>By day, mild-mannered Dexter is a blood-spatte...</td>\n      <td>Stars:Michael C. Hall, Jennifer Carpenter, Dav...</td>\n      <td>665,387</td>\n      <td>53.0</td>\n      <td></td>\n      <td>Michael C. Hall, Jennifer Carpenter, David Zay...</td>\n      <td>2006</td>\n    </tr>\n    <tr>\n      <th>8</th>\n      <td>Never Have I Ever</td>\n      <td>(2020– )</td>\n      <td>Comedy</td>\n      <td>7.9</td>\n      <td>The complicated life of a modern-day first gen...</td>\n      <td>Stars:Maitreyi Ramakrishnan, Poorna Jagannatha...</td>\n      <td>34,530</td>\n      <td>30.0</td>\n      <td></td>\n      <td>Maitreyi Ramakrishnan, Poorna Jagannathan, Dar...</td>\n      <td>2020</td>\n    </tr>\n    <tr>\n      <th>9</th>\n      <td>Virgin River</td>\n      <td>(2019– )</td>\n      <td>Drama, Romance</td>\n      <td>7.4</td>\n      <td>Seeking a fresh start, nurse practitioner Meli...</td>\n      <td>Stars:Alexandra Breckenridge, Martin Henderson...</td>\n      <td>27,279</td>\n      <td>44.0</td>\n      <td></td>\n      <td>Alexandra Breckenridge, Martin Henderson, Coli...</td>\n      <td>2019</td>\n    </tr>\n    <tr>\n      <th>10</th>\n      <td>Gunpowder Milkshake</td>\n      <td>(2021)</td>\n      <td>Action, Adventure, Thriller</td>\n      <td>6.0</td>\n      <td>Three generations of women fight back against ...</td>\n      <td>Director:Navot Papushado|     Stars:Karen Gill...</td>\n      <td>17,989</td>\n      <td>114.0</td>\n      <td>Navot Papushado</td>\n      <td>Karen Gillan, Lena Headey, Carla Gugino, Miche...</td>\n      <td>2021</td>\n    </tr>\n    <tr>\n      <th>11</th>\n      <td>Lucifer</td>\n      <td>(2016–2021)</td>\n      <td>Crime, Drama, Fantasy</td>\n      <td>8.1</td>\n      <td>Lucifer Morningstar has decided he's had enoug...</td>\n      <td>Stars:Tom Ellis, Lesley-Ann Brandt, Lauren Ger...</td>\n      <td>264,222</td>\n      <td>42.0</td>\n      <td></td>\n      <td>Tom Ellis, Lesley-Ann Brandt, Lauren German, D...</td>\n      <td>2016</td>\n    </tr>\n    <tr>\n      <th>12</th>\n      <td>Fear Street: 1994</td>\n      <td>(2021)</td>\n      <td>Drama, Horror, Mystery</td>\n      <td>6.2</td>\n      <td>A circle of teenage friends accidentally encou...</td>\n      <td>Director:Leigh Janiak|     Stars:Kiana Madeira...</td>\n      <td>50,148</td>\n      <td>107.0</td>\n      <td>Leigh Janiak</td>\n      <td>Kiana Madeira, Olivia Scott Welch, Benjamin Fl...</td>\n      <td>2021</td>\n    </tr>\n    <tr>\n      <th>13</th>\n      <td>Sex/Life</td>\n      <td>(2021– )</td>\n      <td>Comedy, Drama, Romance</td>\n      <td>5.4</td>\n      <td>A suburban mother of two takes a fantasy-charg...</td>\n      <td>Stars:Sarah Shahi, Mike Vogel, Adam Demos, Mar...</td>\n      <td>12,172</td>\n      <td>0.0</td>\n      <td></td>\n      <td>Sarah Shahi, Mike Vogel, Adam Demos, Margaret ...</td>\n      <td>2021</td>\n    </tr>\n    <tr>\n      <th>14</th>\n      <td>American Horror Story</td>\n      <td>(2011– )</td>\n      <td>Drama, Horror, Thriller</td>\n      <td>8.0</td>\n      <td>An anthology series centering on different cha...</td>\n      <td>Stars:Lady Gaga, Kathy Bates, Angela Bassett, ...</td>\n      <td>286,488</td>\n      <td>60.0</td>\n      <td></td>\n      <td>Lady Gaga, Kathy Bates, Angela Bassett, Sarah ...</td>\n      <td>2011</td>\n    </tr>\n    <tr>\n      <th>15</th>\n      <td>Grey's Anatomy</td>\n      <td>(2005– )</td>\n      <td>Drama, Romance</td>\n      <td>7.5</td>\n      <td>A drama centered on the personal and professio...</td>\n      <td>Stars:Ellen Pompeo, Chandra Wilson, James Pick...</td>\n      <td>266,258</td>\n      <td>41.0</td>\n      <td></td>\n      <td>Ellen Pompeo, Chandra Wilson, James Pickens Jr...</td>\n      <td>2005</td>\n    </tr>\n    <tr>\n      <th>16</th>\n      <td>Breaking Bad</td>\n      <td>(2008–2013)</td>\n      <td>Crime, Drama, Thriller</td>\n      <td>9.4</td>\n      <td>A high school chemistry teacher diagnosed with...</td>\n      <td>Stars:Bryan Cranston, Aaron Paul, Anna Gunn, B...</td>\n      <td>1,552,311</td>\n      <td>49.0</td>\n      <td></td>\n      <td>Bryan Cranston, Aaron Paul, Anna Gunn, Betsy B...</td>\n      <td>2008</td>\n    </tr>\n    <tr>\n      <th>17</th>\n      <td>The Good Doctor</td>\n      <td>(2017– )</td>\n      <td>Drama</td>\n      <td>8.1</td>\n      <td>Shaun Murphy, a young surgeon with autism and ...</td>\n      <td>Stars:Freddie Highmore, Hill Harper, Richard S...</td>\n      <td>70,871</td>\n      <td>41.0</td>\n      <td></td>\n      <td>Freddie Highmore, Hill Harper, Richard Schiff,...</td>\n      <td>2017</td>\n    </tr>\n    <tr>\n      <th>18</th>\n      <td>Atypical</td>\n      <td>(2017–2021)</td>\n      <td>Comedy, Drama</td>\n      <td>8.3</td>\n      <td>Sam, an 18-year-old on the autism spectrum, de...</td>\n      <td>Stars:Jennifer Jason Leigh, Keir Gilchrist, Br...</td>\n      <td>71,544</td>\n      <td>30.0</td>\n      <td></td>\n      <td>Jennifer Jason Leigh, Keir Gilchrist, Brigette...</td>\n      <td>2017</td>\n    </tr>\n    <tr>\n      <th>19</th>\n      <td>Stranger Things</td>\n      <td>(2016– )</td>\n      <td>Drama, Fantasy, Horror</td>\n      <td>8.7</td>\n      <td>When a young boy disappears, his mother, a pol...</td>\n      <td>Stars:Millie Bobby Brown, Finn Wolfhard, Winon...</td>\n      <td>885,856</td>\n      <td>51.0</td>\n      <td></td>\n      <td>Millie Bobby Brown, Finn Wolfhard, Winona Ryde...</td>\n      <td>2016</td>\n    </tr>\n  </tbody>\n</table>\n</div>"
     },
     "execution_count": 19,
     "metadata": {},
     "output_type": "execute_result"
    }
   ],
   "source": [
    "df.head(20)"
   ],
   "metadata": {
    "collapsed": false
   }
  },
  {
   "cell_type": "code",
   "execution_count": 16,
   "metadata": {},
   "outputs": [
    {
     "data": {
      "text/plain": "            RATING      RunTime\ncount  9999.000000  9999.000000\nmean      5.661396    48.368437\nstd       2.889766    50.552195\nmin       0.000000     0.000000\n25%       5.100000     0.000000\n50%       6.700000    42.000000\n75%       7.600000    86.000000\nmax       9.900000   853.000000",
      "text/html": "<div>\n<style scoped>\n    .dataframe tbody tr th:only-of-type {\n        vertical-align: middle;\n    }\n\n    .dataframe tbody tr th {\n        vertical-align: top;\n    }\n\n    .dataframe thead th {\n        text-align: right;\n    }\n</style>\n<table border=\"1\" class=\"dataframe\">\n  <thead>\n    <tr style=\"text-align: right;\">\n      <th></th>\n      <th>RATING</th>\n      <th>RunTime</th>\n    </tr>\n  </thead>\n  <tbody>\n    <tr>\n      <th>count</th>\n      <td>9999.000000</td>\n      <td>9999.000000</td>\n    </tr>\n    <tr>\n      <th>mean</th>\n      <td>5.661396</td>\n      <td>48.368437</td>\n    </tr>\n    <tr>\n      <th>std</th>\n      <td>2.889766</td>\n      <td>50.552195</td>\n    </tr>\n    <tr>\n      <th>min</th>\n      <td>0.000000</td>\n      <td>0.000000</td>\n    </tr>\n    <tr>\n      <th>25%</th>\n      <td>5.100000</td>\n      <td>0.000000</td>\n    </tr>\n    <tr>\n      <th>50%</th>\n      <td>6.700000</td>\n      <td>42.000000</td>\n    </tr>\n    <tr>\n      <th>75%</th>\n      <td>7.600000</td>\n      <td>86.000000</td>\n    </tr>\n    <tr>\n      <th>max</th>\n      <td>9.900000</td>\n      <td>853.000000</td>\n    </tr>\n  </tbody>\n</table>\n</div>"
     },
     "execution_count": 16,
     "metadata": {},
     "output_type": "execute_result"
    }
   ],
   "source": [
    "df.describe()"
   ]
  },
  {
   "cell_type": "markdown",
   "source": [
    "# DATA VISUALIZATION"
   ],
   "metadata": {
    "collapsed": false
   }
  },
  {
   "cell_type": "code",
   "execution_count": 16,
   "metadata": {
    "collapsed": false
   },
   "outputs": [],
   "source": []
  }
 ],
 "metadata": {
  "kernelspec": {
   "display_name": ".venv",
   "language": "python",
   "name": "python3"
  },
  "language_info": {
   "codemirror_mode": {
    "name": "ipython",
    "version": 3
   },
   "file_extension": ".py",
   "mimetype": "text/x-python",
   "name": "python",
   "nbconvert_exporter": "python",
   "pygments_lexer": "ipython3",
   "version": "3.11.0"
  },
  "orig_nbformat": 4
 },
 "nbformat": 4,
 "nbformat_minor": 2
}
