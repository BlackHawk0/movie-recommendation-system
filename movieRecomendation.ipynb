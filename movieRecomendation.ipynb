{
 "cells": [
  {
   "cell_type": "code",
   "execution_count": 92,
   "metadata": {},
   "outputs": [
    {
     "name": "stdout",
     "output_type": "stream",
     "text": [
      "Requirement already satisfied: pandas in c:\\users\\danie\\.conda\\envs\\movies\\lib\\site-packages (1.5.3)\n",
      "Requirement already satisfied: numpy in c:\\users\\danie\\.conda\\envs\\movies\\lib\\site-packages (1.23.5)\n",
      "Collecting tabulate\n",
      "  Downloading tabulate-0.9.0-py3-none-any.whl (35 kB)\n",
      "Requirement already satisfied: pytz>=2020.1 in c:\\users\\danie\\.conda\\envs\\movies\\lib\\site-packages (from pandas) (2022.7)\n",
      "Requirement already satisfied: python-dateutil>=2.8.1 in c:\\users\\danie\\.conda\\envs\\movies\\lib\\site-packages (from pandas) (2.8.2)\n",
      "Requirement already satisfied: six>=1.5 in c:\\users\\danie\\.conda\\envs\\movies\\lib\\site-packages (from python-dateutil>=2.8.1->pandas) (1.16.0)\n",
      "Installing collected packages: tabulate\n",
      "Successfully installed tabulate-0.9.0\n"
     ]
    }
   ],
   "source": [
    "# install necessary libraries\n",
    "! pip install pandas numpy tabulate"
   ]
  },
  {
   "cell_type": "code",
   "execution_count": 93,
   "metadata": {},
   "outputs": [],
   "source": [
    "# import libraries\n",
    "import pandas as pd"
   ]
  },
  {
   "cell_type": "code",
   "execution_count": 94,
   "metadata": {},
   "outputs": [],
   "source": [
    "# load dataset\n",
    "df = pd.read_csv(\"movies.csv\")"
   ]
  },
  {
   "cell_type": "code",
   "execution_count": 95,
   "metadata": {},
   "outputs": [
    {
     "name": "stdout",
     "output_type": "stream",
     "text": [
      "<class 'pandas.core.frame.DataFrame'>\n",
      "RangeIndex: 9999 entries, 0 to 9998\n",
      "Data columns (total 9 columns):\n",
      " #   Column    Non-Null Count  Dtype  \n",
      "---  ------    --------------  -----  \n",
      " 0   MOVIES    9999 non-null   object \n",
      " 1   YEAR      9355 non-null   object \n",
      " 2   GENRE     9919 non-null   object \n",
      " 3   RATING    8179 non-null   float64\n",
      " 4   ONE-LINE  9999 non-null   object \n",
      " 5   STARS     9999 non-null   object \n",
      " 6   VOTES     8179 non-null   object \n",
      " 7   RunTime   7041 non-null   float64\n",
      " 8   Gross     460 non-null    object \n",
      "dtypes: float64(2), object(7)\n",
      "memory usage: 703.2+ KB\n"
     ]
    }
   ],
   "source": [
    "# data types of columns and missing values\n",
    "df.info()"
   ]
  },
  {
   "cell_type": "code",
   "execution_count": 96,
   "metadata": {},
   "outputs": [
    {
     "data": {
      "text/plain": "MOVIES       0.000000\nYEAR         6.440644\nGENRE        0.800080\nRATING      18.201820\nONE-LINE     0.000000\nSTARS        0.000000\nVOTES       18.201820\nRunTime     29.582958\nGross       95.399540\ndtype: float64"
     },
     "execution_count": 96,
     "metadata": {},
     "output_type": "execute_result"
    }
   ],
   "source": [
    "# percentage of missing values\n",
    "df.isnull().sum() / df.shape[0]*100"
   ]
  },
  {
   "cell_type": "code",
   "execution_count": 97,
   "outputs": [],
   "source": [
    "#remove \"\\n\n",
    "for col in ['GENRE', 'ONE-LINE', 'STARS']:\n",
    "    df[col] = df[col].str.replace(\"\\n\",\"\").str.strip()"
   ],
   "metadata": {
    "collapsed": false
   }
  },
  {
   "cell_type": "code",
   "execution_count": 98,
   "outputs": [
    {
     "data": {
      "text/plain": "                                MOVIES         YEAR  \\\n0                        Blood Red Sky       (2021)   \n1  Masters of the Universe: Revelation     (2021– )   \n2                     The Walking Dead  (2010–2022)   \n3                       Rick and Morty     (2013– )   \n4                      Army of Thieves       (2021)   \n\n                          GENRE  RATING  \\\n0      Action, Horror, Thriller     6.1   \n1  Animation, Action, Adventure     5.0   \n2       Drama, Horror, Thriller     8.2   \n3  Animation, Adventure, Comedy     9.2   \n4         Action, Crime, Horror     NaN   \n\n                                            ONE-LINE  \\\n0  A woman with a mysterious illness is forced in...   \n1  The war for Eternia begins again in what may b...   \n2  Sheriff Deputy Rick Grimes wakes up from a com...   \n3  An animated series that follows the exploits o...   \n4  A prequel, set before the events of Army of th...   \n\n                                               STARS    VOTES  RunTime Gross  \n0  Director:Peter Thorwarth|     Stars:Peri Baume...   21,062    121.0   NaN  \n1  Stars:Chris Wood, Sarah Michelle Gellar, Lena ...   17,870     25.0   NaN  \n2  Stars:Andrew Lincoln, Norman Reedus, Melissa M...  885,805     44.0   NaN  \n3  Stars:Justin Roiland, Chris Parnell, Spencer G...  414,849     23.0   NaN  \n4  Director:Matthias Schweighöfer|     Stars:Matt...      NaN      NaN   NaN  ",
      "text/html": "<div>\n<style scoped>\n    .dataframe tbody tr th:only-of-type {\n        vertical-align: middle;\n    }\n\n    .dataframe tbody tr th {\n        vertical-align: top;\n    }\n\n    .dataframe thead th {\n        text-align: right;\n    }\n</style>\n<table border=\"1\" class=\"dataframe\">\n  <thead>\n    <tr style=\"text-align: right;\">\n      <th></th>\n      <th>MOVIES</th>\n      <th>YEAR</th>\n      <th>GENRE</th>\n      <th>RATING</th>\n      <th>ONE-LINE</th>\n      <th>STARS</th>\n      <th>VOTES</th>\n      <th>RunTime</th>\n      <th>Gross</th>\n    </tr>\n  </thead>\n  <tbody>\n    <tr>\n      <th>0</th>\n      <td>Blood Red Sky</td>\n      <td>(2021)</td>\n      <td>Action, Horror, Thriller</td>\n      <td>6.1</td>\n      <td>A woman with a mysterious illness is forced in...</td>\n      <td>Director:Peter Thorwarth|     Stars:Peri Baume...</td>\n      <td>21,062</td>\n      <td>121.0</td>\n      <td>NaN</td>\n    </tr>\n    <tr>\n      <th>1</th>\n      <td>Masters of the Universe: Revelation</td>\n      <td>(2021– )</td>\n      <td>Animation, Action, Adventure</td>\n      <td>5.0</td>\n      <td>The war for Eternia begins again in what may b...</td>\n      <td>Stars:Chris Wood, Sarah Michelle Gellar, Lena ...</td>\n      <td>17,870</td>\n      <td>25.0</td>\n      <td>NaN</td>\n    </tr>\n    <tr>\n      <th>2</th>\n      <td>The Walking Dead</td>\n      <td>(2010–2022)</td>\n      <td>Drama, Horror, Thriller</td>\n      <td>8.2</td>\n      <td>Sheriff Deputy Rick Grimes wakes up from a com...</td>\n      <td>Stars:Andrew Lincoln, Norman Reedus, Melissa M...</td>\n      <td>885,805</td>\n      <td>44.0</td>\n      <td>NaN</td>\n    </tr>\n    <tr>\n      <th>3</th>\n      <td>Rick and Morty</td>\n      <td>(2013– )</td>\n      <td>Animation, Adventure, Comedy</td>\n      <td>9.2</td>\n      <td>An animated series that follows the exploits o...</td>\n      <td>Stars:Justin Roiland, Chris Parnell, Spencer G...</td>\n      <td>414,849</td>\n      <td>23.0</td>\n      <td>NaN</td>\n    </tr>\n    <tr>\n      <th>4</th>\n      <td>Army of Thieves</td>\n      <td>(2021)</td>\n      <td>Action, Crime, Horror</td>\n      <td>NaN</td>\n      <td>A prequel, set before the events of Army of th...</td>\n      <td>Director:Matthias Schweighöfer|     Stars:Matt...</td>\n      <td>NaN</td>\n      <td>NaN</td>\n      <td>NaN</td>\n    </tr>\n  </tbody>\n</table>\n</div>"
     },
     "execution_count": 98,
     "metadata": {},
     "output_type": "execute_result"
    }
   ],
   "source": [
    "df.head()"
   ],
   "metadata": {
    "collapsed": false
   }
  },
  {
   "cell_type": "code",
   "execution_count": 99,
   "outputs": [],
   "source": [
    "#extract directors\n",
    "def get_director(director):\n",
    "    if 'Director' in director or 'Directors' in director:\n",
    "        directors = director.strip().split(\"|\")[0]\n",
    "        return  directors.split(\":\")[1]\n",
    "    else:\n",
    "        return ''\n",
    "df['Director'] = df['STARS'].apply(lambda d: get_director(d))"
   ],
   "metadata": {
    "collapsed": false
   }
  },
  {
   "cell_type": "code",
   "execution_count": 100,
   "outputs": [],
   "source": [
    "#extract stars\n",
    "def get_star(star):\n",
    "    if 'Star' in star or 'Stars' in star:\n",
    "        return star.split(':')[-1]\n",
    "    else:\n",
    "        return ''\n",
    "\n",
    "df['Stars'] = df['STARS'].apply(lambda s: get_star(s))"
   ],
   "metadata": {
    "collapsed": false
   }
  },
  {
   "cell_type": "code",
   "execution_count": 101,
   "outputs": [
    {
     "data": {
      "text/plain": "                                               STARS               Director  \\\n0  Director:Peter Thorwarth|     Stars:Peri Baume...        Peter Thorwarth   \n1  Stars:Chris Wood, Sarah Michelle Gellar, Lena ...                          \n2  Stars:Andrew Lincoln, Norman Reedus, Melissa M...                          \n3  Stars:Justin Roiland, Chris Parnell, Spencer G...                          \n4  Director:Matthias Schweighöfer|     Stars:Matt...  Matthias Schweighöfer   \n\n                                               Stars  \n0  Peri Baumeister, Carl Anton Koch, Alexander Sc...  \n1  Chris Wood, Sarah Michelle Gellar, Lena Headey...  \n2  Andrew Lincoln, Norman Reedus, Melissa McBride...  \n3  Justin Roiland, Chris Parnell, Spencer Grammer...  \n4  Matthias Schweighöfer, Nathalie Emmanuel, Ruby...  ",
      "text/html": "<div>\n<style scoped>\n    .dataframe tbody tr th:only-of-type {\n        vertical-align: middle;\n    }\n\n    .dataframe tbody tr th {\n        vertical-align: top;\n    }\n\n    .dataframe thead th {\n        text-align: right;\n    }\n</style>\n<table border=\"1\" class=\"dataframe\">\n  <thead>\n    <tr style=\"text-align: right;\">\n      <th></th>\n      <th>STARS</th>\n      <th>Director</th>\n      <th>Stars</th>\n    </tr>\n  </thead>\n  <tbody>\n    <tr>\n      <th>0</th>\n      <td>Director:Peter Thorwarth|     Stars:Peri Baume...</td>\n      <td>Peter Thorwarth</td>\n      <td>Peri Baumeister, Carl Anton Koch, Alexander Sc...</td>\n    </tr>\n    <tr>\n      <th>1</th>\n      <td>Stars:Chris Wood, Sarah Michelle Gellar, Lena ...</td>\n      <td></td>\n      <td>Chris Wood, Sarah Michelle Gellar, Lena Headey...</td>\n    </tr>\n    <tr>\n      <th>2</th>\n      <td>Stars:Andrew Lincoln, Norman Reedus, Melissa M...</td>\n      <td></td>\n      <td>Andrew Lincoln, Norman Reedus, Melissa McBride...</td>\n    </tr>\n    <tr>\n      <th>3</th>\n      <td>Stars:Justin Roiland, Chris Parnell, Spencer G...</td>\n      <td></td>\n      <td>Justin Roiland, Chris Parnell, Spencer Grammer...</td>\n    </tr>\n    <tr>\n      <th>4</th>\n      <td>Director:Matthias Schweighöfer|     Stars:Matt...</td>\n      <td>Matthias Schweighöfer</td>\n      <td>Matthias Schweighöfer, Nathalie Emmanuel, Ruby...</td>\n    </tr>\n  </tbody>\n</table>\n</div>"
     },
     "execution_count": 101,
     "metadata": {},
     "output_type": "execute_result"
    }
   ],
   "source": [
    "df[['STARS','Director','Stars']].head()"
   ],
   "metadata": {
    "collapsed": false
   }
  },
  {
   "cell_type": "code",
   "execution_count": 102,
   "outputs": [
    {
     "data": {
      "text/plain": "0       2021\n1       2021\n2       2010\n3       2013\n4       2021\n        ... \n9994    2021\n9995    2021\n9996    2022\n9997    2021\n9998    2021\nName: Year, Length: 9999, dtype: object"
     },
     "execution_count": 102,
     "metadata": {},
     "output_type": "execute_result"
    }
   ],
   "source": [
    "#extracting year\n",
    "df['Year'] = df['YEAR'].str.extract(r'([0-9]{4}-.*|[0-9]{4})')\n",
    "df['Year']= df['Year'].str.strip().replace(\")\",\"\")\n",
    "df['Year']"
   ],
   "metadata": {
    "collapsed": false
   }
  },
  {
   "cell_type": "code",
   "execution_count": 103,
   "outputs": [
    {
     "data": {
      "text/plain": "                                   MOVIES         YEAR  \\\n0                           Blood Red Sky       (2021)   \n1     Masters of the Universe: Revelation     (2021– )   \n2                        The Walking Dead  (2010–2022)   \n3                          Rick and Morty     (2013– )   \n5                             Outer Banks     (2020– )   \n...                                   ...          ...   \n9959                               Sexify     (2021– )   \n9960                               Sexify     (2021– )   \n9961                               Sexify     (2021– )   \n9962                               Sexify     (2021– )   \n9963                          Castlevania  (2017–2021)   \n\n                             GENRE  RATING  \\\n0         Action, Horror, Thriller     6.1   \n1     Animation, Action, Adventure     5.0   \n2          Drama, Horror, Thriller     8.2   \n3     Animation, Adventure, Comedy     9.2   \n5             Action, Crime, Drama     7.6   \n...                            ...     ...   \n9959                 Comedy, Drama     6.8   \n9960                 Comedy, Drama     7.1   \n9961                 Comedy, Drama     6.9   \n9962                 Comedy, Drama     7.1   \n9963  Animation, Action, Adventure     8.2   \n\n                                               ONE-LINE  \\\n0     A woman with a mysterious illness is forced in...   \n1     The war for Eternia begins again in what may b...   \n2     Sheriff Deputy Rick Grimes wakes up from a com...   \n3     An animated series that follows the exploits o...   \n5     A group of teenagers from the wrong side of th...   \n...                                                 ...   \n9959  Monika's idea for gathering data is a hit, but...   \n9960  After facing their parents at Easter breakfast...   \n9961  After getting an anonymous tip about the copul...   \n9962  The big pitch at the university tech competiti...   \n9963  Lenore urges Hector to not test Camilla's pati...   \n\n                                                  STARS    VOTES  RunTime  \\\n0     Director:Peter Thorwarth|     Stars:Peri Baume...   21,062    121.0   \n1     Stars:Chris Wood, Sarah Michelle Gellar, Lena ...   17,870     25.0   \n2     Stars:Andrew Lincoln, Norman Reedus, Melissa M...  885,805     44.0   \n3     Stars:Justin Roiland, Chris Parnell, Spencer G...  414,849     23.0   \n5     Stars:Chase Stokes, Madelyn Cline, Madison Bai...   25,858     50.0   \n...                                                 ...      ...      ...   \n9959  Director:Kalina Alabrudzinska|     Stars:Aleks...      108     38.0   \n9960  Director:Kalina Alabrudzinska|     Stars:Aleks...      103     37.0   \n9961  Director:Kalina Alabrudzinska|     Stars:Aleks...       96     40.0   \n9962  Director:Kalina Alabrudzinska|     Stars:Aleks...      100     47.0   \n9963  Director:Sam Deats|     Stars:Richard Armitage...      911     24.0   \n\n                  Director                                              Stars  \\\n0          Peter Thorwarth  Peri Baumeister, Carl Anton Koch, Alexander Sc...   \n1                           Chris Wood, Sarah Michelle Gellar, Lena Headey...   \n2                           Andrew Lincoln, Norman Reedus, Melissa McBride...   \n3                           Justin Roiland, Chris Parnell, Spencer Grammer...   \n5                           Chase Stokes, Madelyn Cline, Madison Bailey, J...   \n...                    ...                                                ...   \n9959  Kalina Alabrudzinska  Aleksandra Skraba, Maria Sobocinska, Sandra Dr...   \n9960  Kalina Alabrudzinska  Aleksandra Skraba, Maria Sobocinska, Sandra Dr...   \n9961  Kalina Alabrudzinska  Aleksandra Skraba, Maria Sobocinska, Sandra Dr...   \n9962  Kalina Alabrudzinska  Aleksandra Skraba, Maria Sobocinska, Sandra Dr...   \n9963             Sam Deats  Richard Armitage, James Callis, Alejandra Reyn...   \n\n      Year  \n0     2021  \n1     2021  \n2     2010  \n3     2013  \n5     2020  \n...    ...  \n9959  2021  \n9960  2021  \n9961  2021  \n9962  2021  \n9963  2017  \n\n[6779 rows x 11 columns]",
      "text/html": "<div>\n<style scoped>\n    .dataframe tbody tr th:only-of-type {\n        vertical-align: middle;\n    }\n\n    .dataframe tbody tr th {\n        vertical-align: top;\n    }\n\n    .dataframe thead th {\n        text-align: right;\n    }\n</style>\n<table border=\"1\" class=\"dataframe\">\n  <thead>\n    <tr style=\"text-align: right;\">\n      <th></th>\n      <th>MOVIES</th>\n      <th>YEAR</th>\n      <th>GENRE</th>\n      <th>RATING</th>\n      <th>ONE-LINE</th>\n      <th>STARS</th>\n      <th>VOTES</th>\n      <th>RunTime</th>\n      <th>Director</th>\n      <th>Stars</th>\n      <th>Year</th>\n    </tr>\n  </thead>\n  <tbody>\n    <tr>\n      <th>0</th>\n      <td>Blood Red Sky</td>\n      <td>(2021)</td>\n      <td>Action, Horror, Thriller</td>\n      <td>6.1</td>\n      <td>A woman with a mysterious illness is forced in...</td>\n      <td>Director:Peter Thorwarth|     Stars:Peri Baume...</td>\n      <td>21,062</td>\n      <td>121.0</td>\n      <td>Peter Thorwarth</td>\n      <td>Peri Baumeister, Carl Anton Koch, Alexander Sc...</td>\n      <td>2021</td>\n    </tr>\n    <tr>\n      <th>1</th>\n      <td>Masters of the Universe: Revelation</td>\n      <td>(2021– )</td>\n      <td>Animation, Action, Adventure</td>\n      <td>5.0</td>\n      <td>The war for Eternia begins again in what may b...</td>\n      <td>Stars:Chris Wood, Sarah Michelle Gellar, Lena ...</td>\n      <td>17,870</td>\n      <td>25.0</td>\n      <td></td>\n      <td>Chris Wood, Sarah Michelle Gellar, Lena Headey...</td>\n      <td>2021</td>\n    </tr>\n    <tr>\n      <th>2</th>\n      <td>The Walking Dead</td>\n      <td>(2010–2022)</td>\n      <td>Drama, Horror, Thriller</td>\n      <td>8.2</td>\n      <td>Sheriff Deputy Rick Grimes wakes up from a com...</td>\n      <td>Stars:Andrew Lincoln, Norman Reedus, Melissa M...</td>\n      <td>885,805</td>\n      <td>44.0</td>\n      <td></td>\n      <td>Andrew Lincoln, Norman Reedus, Melissa McBride...</td>\n      <td>2010</td>\n    </tr>\n    <tr>\n      <th>3</th>\n      <td>Rick and Morty</td>\n      <td>(2013– )</td>\n      <td>Animation, Adventure, Comedy</td>\n      <td>9.2</td>\n      <td>An animated series that follows the exploits o...</td>\n      <td>Stars:Justin Roiland, Chris Parnell, Spencer G...</td>\n      <td>414,849</td>\n      <td>23.0</td>\n      <td></td>\n      <td>Justin Roiland, Chris Parnell, Spencer Grammer...</td>\n      <td>2013</td>\n    </tr>\n    <tr>\n      <th>5</th>\n      <td>Outer Banks</td>\n      <td>(2020– )</td>\n      <td>Action, Crime, Drama</td>\n      <td>7.6</td>\n      <td>A group of teenagers from the wrong side of th...</td>\n      <td>Stars:Chase Stokes, Madelyn Cline, Madison Bai...</td>\n      <td>25,858</td>\n      <td>50.0</td>\n      <td></td>\n      <td>Chase Stokes, Madelyn Cline, Madison Bailey, J...</td>\n      <td>2020</td>\n    </tr>\n    <tr>\n      <th>...</th>\n      <td>...</td>\n      <td>...</td>\n      <td>...</td>\n      <td>...</td>\n      <td>...</td>\n      <td>...</td>\n      <td>...</td>\n      <td>...</td>\n      <td>...</td>\n      <td>...</td>\n      <td>...</td>\n    </tr>\n    <tr>\n      <th>9959</th>\n      <td>Sexify</td>\n      <td>(2021– )</td>\n      <td>Comedy, Drama</td>\n      <td>6.8</td>\n      <td>Monika's idea for gathering data is a hit, but...</td>\n      <td>Director:Kalina Alabrudzinska|     Stars:Aleks...</td>\n      <td>108</td>\n      <td>38.0</td>\n      <td>Kalina Alabrudzinska</td>\n      <td>Aleksandra Skraba, Maria Sobocinska, Sandra Dr...</td>\n      <td>2021</td>\n    </tr>\n    <tr>\n      <th>9960</th>\n      <td>Sexify</td>\n      <td>(2021– )</td>\n      <td>Comedy, Drama</td>\n      <td>7.1</td>\n      <td>After facing their parents at Easter breakfast...</td>\n      <td>Director:Kalina Alabrudzinska|     Stars:Aleks...</td>\n      <td>103</td>\n      <td>37.0</td>\n      <td>Kalina Alabrudzinska</td>\n      <td>Aleksandra Skraba, Maria Sobocinska, Sandra Dr...</td>\n      <td>2021</td>\n    </tr>\n    <tr>\n      <th>9961</th>\n      <td>Sexify</td>\n      <td>(2021– )</td>\n      <td>Comedy, Drama</td>\n      <td>6.9</td>\n      <td>After getting an anonymous tip about the copul...</td>\n      <td>Director:Kalina Alabrudzinska|     Stars:Aleks...</td>\n      <td>96</td>\n      <td>40.0</td>\n      <td>Kalina Alabrudzinska</td>\n      <td>Aleksandra Skraba, Maria Sobocinska, Sandra Dr...</td>\n      <td>2021</td>\n    </tr>\n    <tr>\n      <th>9962</th>\n      <td>Sexify</td>\n      <td>(2021– )</td>\n      <td>Comedy, Drama</td>\n      <td>7.1</td>\n      <td>The big pitch at the university tech competiti...</td>\n      <td>Director:Kalina Alabrudzinska|     Stars:Aleks...</td>\n      <td>100</td>\n      <td>47.0</td>\n      <td>Kalina Alabrudzinska</td>\n      <td>Aleksandra Skraba, Maria Sobocinska, Sandra Dr...</td>\n      <td>2021</td>\n    </tr>\n    <tr>\n      <th>9963</th>\n      <td>Castlevania</td>\n      <td>(2017–2021)</td>\n      <td>Animation, Action, Adventure</td>\n      <td>8.2</td>\n      <td>Lenore urges Hector to not test Camilla's pati...</td>\n      <td>Director:Sam Deats|     Stars:Richard Armitage...</td>\n      <td>911</td>\n      <td>24.0</td>\n      <td>Sam Deats</td>\n      <td>Richard Armitage, James Callis, Alejandra Reyn...</td>\n      <td>2017</td>\n    </tr>\n  </tbody>\n</table>\n<p>6779 rows × 11 columns</p>\n</div>"
     },
     "execution_count": 103,
     "metadata": {},
     "output_type": "execute_result"
    }
   ],
   "source": [
    "#drop gross column\n",
    "df = df.drop('Gross', axis=1)\n",
    "df.dropna()"
   ],
   "metadata": {
    "collapsed": false
   }
  },
  {
   "cell_type": "code",
   "execution_count": 128,
   "outputs": [
    {
     "name": "stdout",
     "output_type": "stream",
     "text": [
      "|    | MOVIES                                 | GENRE                        | Director              | VOTES     |\n",
      "|---:|:---------------------------------------|:-----------------------------|:----------------------|:----------|\n",
      "|  0 | Blood Red Sky                          | Action, Horror, Thriller     | Peter Thorwarth       | 21,062    |\n",
      "|  1 | Masters of the Universe: Revelation    | Animation, Action, Adventure |                       | 17,870    |\n",
      "|  2 | The Walking Dead                       | Drama, Horror, Thriller      |                       | 885,805   |\n",
      "|  3 | Rick and Morty                         | Animation, Adventure, Comedy |                       | 414,849   |\n",
      "|  4 | Army of Thieves                        | Action, Crime, Horror        | Matthias Schweighöfer | nan       |\n",
      "|  5 | Outer Banks                            | Action, Crime, Drama         |                       | 25,858    |\n",
      "|  6 | The Last Letter from Your Lover        | Drama, Romance               | Augustine Frizzell    | 5,283     |\n",
      "|  7 | Dexter                                 | Crime, Drama, Mystery        |                       | 665,387   |\n",
      "|  8 | Never Have I Ever                      | Comedy                       |                       | 34,530    |\n",
      "|  9 | Virgin River                           | Drama, Romance               |                       | 27,279    |\n",
      "| 10 | Gunpowder Milkshake                    | Action, Adventure, Thriller  | Navot Papushado       | 17,989    |\n",
      "| 11 | Lucifer                                | Crime, Drama, Fantasy        |                       | 264,222   |\n",
      "| 12 | Fear Street: 1994                      | Drama, Horror, Mystery       | Leigh Janiak          | 50,148    |\n",
      "| 13 | Sex/Life                               | Comedy, Drama, Romance       |                       | 12,172    |\n",
      "| 14 | American Horror Story                  | Drama, Horror, Thriller      |                       | 286,488   |\n",
      "| 15 | Grey's Anatomy                         | Drama, Romance               |                       | 266,258   |\n",
      "| 16 | Breaking Bad                           | Crime, Drama, Thriller       |                       | 1,552,311 |\n",
      "| 17 | The Good Doctor                        | Drama                        |                       | 70,871    |\n",
      "| 18 | Atypical                               | Comedy, Drama                |                       | 71,544    |\n",
      "| 19 | Stranger Things                        | Drama, Fantasy, Horror       |                       | 885,856   |\n",
      "| 20 | Fear Street: 1978                      | Drama, Horror, Mystery       | Leigh Janiak          | 36,634    |\n",
      "| 21 | Friends                                | Comedy, Romance              |                       | 880,918   |\n",
      "| 22 | The Flash                              | Action, Adventure, Drama     |                       | 320,264   |\n",
      "| 23 | Peaky Blinders                         | Crime, Drama                 |                       | 393,414   |\n",
      "| 24 | He-Man and the Masters of the Universe | Animation, Action, Adventure |                       | nan       |\n",
      "| 25 | Chernobyl                              | Drama, History, Romance      | Danila Kozlovskiy     | 4,681     |\n",
      "| 26 | Vikings                                | Action, Adventure, Drama     |                       | 459,913   |\n",
      "| 27 | Better Call Saul                       | Crime, Drama                 |                       | 347,857   |\n",
      "| 28 | Supernatural                           | Drama, Fantasy, Horror       |                       | 404,273   |\n",
      "| 29 | The Blacklist                          | Crime, Drama, Mystery        |                       | 213,522   |\n"
     ]
    }
   ],
   "source": [
    "new_df = df.loc[:,['MOVIES', 'GENRE', 'Director', 'VOTES']]\n",
    "print(new_df.head(30).to_markdown())"
   ],
   "metadata": {
    "collapsed": false
   }
  },
  {
   "cell_type": "code",
   "execution_count": 117,
   "outputs": [],
   "source": [],
   "metadata": {
    "collapsed": false
   }
  },
  {
   "cell_type": "code",
   "execution_count": 105,
   "metadata": {},
   "outputs": [
    {
     "data": {
      "text/plain": "            RATING      RunTime\ncount  8179.000000  7041.000000\nmean      6.921176    68.688539\nstd       1.220232    47.258056\nmin       1.100000     1.000000\n25%       6.200000    36.000000\n50%       7.100000    60.000000\n75%       7.800000    95.000000\nmax       9.900000   853.000000",
      "text/html": "<div>\n<style scoped>\n    .dataframe tbody tr th:only-of-type {\n        vertical-align: middle;\n    }\n\n    .dataframe tbody tr th {\n        vertical-align: top;\n    }\n\n    .dataframe thead th {\n        text-align: right;\n    }\n</style>\n<table border=\"1\" class=\"dataframe\">\n  <thead>\n    <tr style=\"text-align: right;\">\n      <th></th>\n      <th>RATING</th>\n      <th>RunTime</th>\n    </tr>\n  </thead>\n  <tbody>\n    <tr>\n      <th>count</th>\n      <td>8179.000000</td>\n      <td>7041.000000</td>\n    </tr>\n    <tr>\n      <th>mean</th>\n      <td>6.921176</td>\n      <td>68.688539</td>\n    </tr>\n    <tr>\n      <th>std</th>\n      <td>1.220232</td>\n      <td>47.258056</td>\n    </tr>\n    <tr>\n      <th>min</th>\n      <td>1.100000</td>\n      <td>1.000000</td>\n    </tr>\n    <tr>\n      <th>25%</th>\n      <td>6.200000</td>\n      <td>36.000000</td>\n    </tr>\n    <tr>\n      <th>50%</th>\n      <td>7.100000</td>\n      <td>60.000000</td>\n    </tr>\n    <tr>\n      <th>75%</th>\n      <td>7.800000</td>\n      <td>95.000000</td>\n    </tr>\n    <tr>\n      <th>max</th>\n      <td>9.900000</td>\n      <td>853.000000</td>\n    </tr>\n  </tbody>\n</table>\n</div>"
     },
     "execution_count": 105,
     "metadata": {},
     "output_type": "execute_result"
    }
   ],
   "source": [
    "df.describe()"
   ]
  },
  {
   "cell_type": "code",
   "execution_count": 105,
   "outputs": [],
   "source": [],
   "metadata": {
    "collapsed": false
   }
  }
 ],
 "metadata": {
  "kernelspec": {
   "display_name": ".venv",
   "language": "python",
   "name": "python3"
  },
  "language_info": {
   "codemirror_mode": {
    "name": "ipython",
    "version": 3
   },
   "file_extension": ".py",
   "mimetype": "text/x-python",
   "name": "python",
   "nbconvert_exporter": "python",
   "pygments_lexer": "ipython3",
   "version": "3.11.0"
  },
  "orig_nbformat": 4
 },
 "nbformat": 4,
 "nbformat_minor": 2
}
