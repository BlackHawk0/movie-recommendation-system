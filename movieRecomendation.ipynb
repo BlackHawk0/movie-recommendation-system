{
 "cells": [
  {
   "cell_type": "code",
   "execution_count": 34,
   "metadata": {},
   "outputs": [
    {
     "name": "stdout",
     "output_type": "stream",
     "text": [
      "Requirement already satisfied: pandas in c:\\users\\danie\\.conda\\envs\\movies\\lib\\site-packages (1.5.3)\n",
      "Requirement already satisfied: numpy in c:\\users\\danie\\.conda\\envs\\movies\\lib\\site-packages (1.23.5)\n",
      "Requirement already satisfied: python-dateutil>=2.8.1 in c:\\users\\danie\\.conda\\envs\\movies\\lib\\site-packages (from pandas) (2.8.2)\n",
      "Requirement already satisfied: pytz>=2020.1 in c:\\users\\danie\\.conda\\envs\\movies\\lib\\site-packages (from pandas) (2022.7)\n",
      "Requirement already satisfied: six>=1.5 in c:\\users\\danie\\.conda\\envs\\movies\\lib\\site-packages (from python-dateutil>=2.8.1->pandas) (1.16.0)\n"
     ]
    }
   ],
   "source": [
    "# install necessary libraries\n",
    "! pip install pandas numpy"
   ]
  },
  {
   "cell_type": "code",
   "execution_count": 35,
   "metadata": {},
   "outputs": [],
   "source": [
    "# import libraries\n",
    "import pandas as pd"
   ]
  },
  {
   "cell_type": "code",
   "execution_count": 36,
   "metadata": {},
   "outputs": [],
   "source": [
    "# load dataset\n",
    "df = pd.read_csv(\"movies.csv\")"
   ]
  },
  {
   "cell_type": "code",
   "execution_count": 37,
   "metadata": {},
   "outputs": [
    {
     "name": "stdout",
     "output_type": "stream",
     "text": [
      "<class 'pandas.core.frame.DataFrame'>\n",
      "RangeIndex: 9999 entries, 0 to 9998\n",
      "Data columns (total 9 columns):\n",
      " #   Column    Non-Null Count  Dtype  \n",
      "---  ------    --------------  -----  \n",
      " 0   MOVIES    9999 non-null   object \n",
      " 1   YEAR      9355 non-null   object \n",
      " 2   GENRE     9919 non-null   object \n",
      " 3   RATING    8179 non-null   float64\n",
      " 4   ONE-LINE  9999 non-null   object \n",
      " 5   STARS     9999 non-null   object \n",
      " 6   VOTES     8179 non-null   object \n",
      " 7   RunTime   7041 non-null   float64\n",
      " 8   Gross     460 non-null    object \n",
      "dtypes: float64(2), object(7)\n",
      "memory usage: 703.2+ KB\n"
     ]
    }
   ],
   "source": [
    "# data types of columns and missing values\n",
    "df.info()"
   ]
  },
  {
   "cell_type": "code",
   "execution_count": 38,
   "metadata": {},
   "outputs": [
    {
     "data": {
      "text/plain": "MOVIES       0.000000\nYEAR         6.440644\nGENRE        0.800080\nRATING      18.201820\nONE-LINE     0.000000\nSTARS        0.000000\nVOTES       18.201820\nRunTime     29.582958\nGross       95.399540\ndtype: float64"
     },
     "execution_count": 38,
     "metadata": {},
     "output_type": "execute_result"
    }
   ],
   "source": [
    "# percentage of missing values\n",
    "df.isnull().sum() / df.shape[0]*100"
   ]
  },
  {
   "cell_type": "code",
   "execution_count": 39,
   "outputs": [],
   "source": [
    "#remove \"\\n\n",
    "for col in ['GENRE', 'ONE-LINE', 'STARS']:\n",
    "    df[col] = df[col].str.replace(\"\\n\",\"\").str.strip()"
   ],
   "metadata": {
    "collapsed": false
   }
  },
  {
   "cell_type": "code",
   "execution_count": 40,
   "outputs": [
    {
     "data": {
      "text/plain": "                                MOVIES         YEAR  \\\n0                        Blood Red Sky       (2021)   \n1  Masters of the Universe: Revelation     (2021– )   \n2                     The Walking Dead  (2010–2022)   \n3                       Rick and Morty     (2013– )   \n4                      Army of Thieves       (2021)   \n\n                          GENRE  RATING  \\\n0      Action, Horror, Thriller     6.1   \n1  Animation, Action, Adventure     5.0   \n2       Drama, Horror, Thriller     8.2   \n3  Animation, Adventure, Comedy     9.2   \n4         Action, Crime, Horror     NaN   \n\n                                            ONE-LINE  \\\n0  A woman with a mysterious illness is forced in...   \n1  The war for Eternia begins again in what may b...   \n2  Sheriff Deputy Rick Grimes wakes up from a com...   \n3  An animated series that follows the exploits o...   \n4  A prequel, set before the events of Army of th...   \n\n                                               STARS    VOTES  RunTime Gross  \n0  Director:Peter Thorwarth|     Stars:Peri Baume...   21,062    121.0   NaN  \n1  Stars:Chris Wood, Sarah Michelle Gellar, Lena ...   17,870     25.0   NaN  \n2  Stars:Andrew Lincoln, Norman Reedus, Melissa M...  885,805     44.0   NaN  \n3  Stars:Justin Roiland, Chris Parnell, Spencer G...  414,849     23.0   NaN  \n4  Director:Matthias Schweighöfer|     Stars:Matt...      NaN      NaN   NaN  ",
      "text/html": "<div>\n<style scoped>\n    .dataframe tbody tr th:only-of-type {\n        vertical-align: middle;\n    }\n\n    .dataframe tbody tr th {\n        vertical-align: top;\n    }\n\n    .dataframe thead th {\n        text-align: right;\n    }\n</style>\n<table border=\"1\" class=\"dataframe\">\n  <thead>\n    <tr style=\"text-align: right;\">\n      <th></th>\n      <th>MOVIES</th>\n      <th>YEAR</th>\n      <th>GENRE</th>\n      <th>RATING</th>\n      <th>ONE-LINE</th>\n      <th>STARS</th>\n      <th>VOTES</th>\n      <th>RunTime</th>\n      <th>Gross</th>\n    </tr>\n  </thead>\n  <tbody>\n    <tr>\n      <th>0</th>\n      <td>Blood Red Sky</td>\n      <td>(2021)</td>\n      <td>Action, Horror, Thriller</td>\n      <td>6.1</td>\n      <td>A woman with a mysterious illness is forced in...</td>\n      <td>Director:Peter Thorwarth|     Stars:Peri Baume...</td>\n      <td>21,062</td>\n      <td>121.0</td>\n      <td>NaN</td>\n    </tr>\n    <tr>\n      <th>1</th>\n      <td>Masters of the Universe: Revelation</td>\n      <td>(2021– )</td>\n      <td>Animation, Action, Adventure</td>\n      <td>5.0</td>\n      <td>The war for Eternia begins again in what may b...</td>\n      <td>Stars:Chris Wood, Sarah Michelle Gellar, Lena ...</td>\n      <td>17,870</td>\n      <td>25.0</td>\n      <td>NaN</td>\n    </tr>\n    <tr>\n      <th>2</th>\n      <td>The Walking Dead</td>\n      <td>(2010–2022)</td>\n      <td>Drama, Horror, Thriller</td>\n      <td>8.2</td>\n      <td>Sheriff Deputy Rick Grimes wakes up from a com...</td>\n      <td>Stars:Andrew Lincoln, Norman Reedus, Melissa M...</td>\n      <td>885,805</td>\n      <td>44.0</td>\n      <td>NaN</td>\n    </tr>\n    <tr>\n      <th>3</th>\n      <td>Rick and Morty</td>\n      <td>(2013– )</td>\n      <td>Animation, Adventure, Comedy</td>\n      <td>9.2</td>\n      <td>An animated series that follows the exploits o...</td>\n      <td>Stars:Justin Roiland, Chris Parnell, Spencer G...</td>\n      <td>414,849</td>\n      <td>23.0</td>\n      <td>NaN</td>\n    </tr>\n    <tr>\n      <th>4</th>\n      <td>Army of Thieves</td>\n      <td>(2021)</td>\n      <td>Action, Crime, Horror</td>\n      <td>NaN</td>\n      <td>A prequel, set before the events of Army of th...</td>\n      <td>Director:Matthias Schweighöfer|     Stars:Matt...</td>\n      <td>NaN</td>\n      <td>NaN</td>\n      <td>NaN</td>\n    </tr>\n  </tbody>\n</table>\n</div>"
     },
     "execution_count": 40,
     "metadata": {},
     "output_type": "execute_result"
    }
   ],
   "source": [
    "df.head()"
   ],
   "metadata": {
    "collapsed": false
   }
  },
  {
   "cell_type": "code",
   "execution_count": 45,
   "outputs": [],
   "source": [
    "#extract directors\n",
    "def get_director(director):\n",
    "    if 'Director' in director or 'Directors' in director:\n",
    "        directors = director.strip().split(\"|\")[0]\n",
    "        return  directors.split(\":\")[1]\n",
    "    else:\n",
    "        return ''\n",
    "df['Director'] = df['STARS'].apply(lambda d: get_director(d))"
   ],
   "metadata": {
    "collapsed": false
   }
  },
  {
   "cell_type": "code",
   "execution_count": 56,
   "outputs": [],
   "source": [
    "#extract stars\n",
    "def get_star(star):\n",
    "    if 'Star' in star or 'Stars' in star:\n",
    "        return star.split(':')[-1]\n",
    "    else:\n",
    "        return ''\n",
    "\n",
    "df['Stars'] = df['STARS'].apply(lambda s: get_star(s))"
   ],
   "metadata": {
    "collapsed": false
   }
  },
  {
   "cell_type": "code",
   "execution_count": 57,
   "outputs": [
    {
     "data": {
      "text/plain": "                                MOVIES         YEAR  \\\n0                        Blood Red Sky       (2021)   \n1  Masters of the Universe: Revelation     (2021– )   \n2                     The Walking Dead  (2010–2022)   \n3                       Rick and Morty     (2013– )   \n4                      Army of Thieves       (2021)   \n\n                          GENRE  RATING  \\\n0      Action, Horror, Thriller     6.1   \n1  Animation, Action, Adventure     5.0   \n2       Drama, Horror, Thriller     8.2   \n3  Animation, Adventure, Comedy     9.2   \n4         Action, Crime, Horror     NaN   \n\n                                            ONE-LINE  \\\n0  A woman with a mysterious illness is forced in...   \n1  The war for Eternia begins again in what may b...   \n2  Sheriff Deputy Rick Grimes wakes up from a com...   \n3  An animated series that follows the exploits o...   \n4  A prequel, set before the events of Army of th...   \n\n                                               STARS    VOTES  RunTime Gross  \\\n0  Director:Peter Thorwarth|     Stars:Peri Baume...   21,062    121.0   NaN   \n1  Stars:Chris Wood, Sarah Michelle Gellar, Lena ...   17,870     25.0   NaN   \n2  Stars:Andrew Lincoln, Norman Reedus, Melissa M...  885,805     44.0   NaN   \n3  Stars:Justin Roiland, Chris Parnell, Spencer G...  414,849     23.0   NaN   \n4  Director:Matthias Schweighöfer|     Stars:Matt...      NaN      NaN   NaN   \n\n                Director                                              Stars  \n0        Peter Thorwarth  Peri Baumeister, Carl Anton Koch, Alexander Sc...  \n1                         Chris Wood, Sarah Michelle Gellar, Lena Headey...  \n2                         Andrew Lincoln, Norman Reedus, Melissa McBride...  \n3                         Justin Roiland, Chris Parnell, Spencer Grammer...  \n4  Matthias Schweighöfer  Matthias Schweighöfer, Nathalie Emmanuel, Ruby...  ",
      "text/html": "<div>\n<style scoped>\n    .dataframe tbody tr th:only-of-type {\n        vertical-align: middle;\n    }\n\n    .dataframe tbody tr th {\n        vertical-align: top;\n    }\n\n    .dataframe thead th {\n        text-align: right;\n    }\n</style>\n<table border=\"1\" class=\"dataframe\">\n  <thead>\n    <tr style=\"text-align: right;\">\n      <th></th>\n      <th>MOVIES</th>\n      <th>YEAR</th>\n      <th>GENRE</th>\n      <th>RATING</th>\n      <th>ONE-LINE</th>\n      <th>STARS</th>\n      <th>VOTES</th>\n      <th>RunTime</th>\n      <th>Gross</th>\n      <th>Director</th>\n      <th>Stars</th>\n    </tr>\n  </thead>\n  <tbody>\n    <tr>\n      <th>0</th>\n      <td>Blood Red Sky</td>\n      <td>(2021)</td>\n      <td>Action, Horror, Thriller</td>\n      <td>6.1</td>\n      <td>A woman with a mysterious illness is forced in...</td>\n      <td>Director:Peter Thorwarth|     Stars:Peri Baume...</td>\n      <td>21,062</td>\n      <td>121.0</td>\n      <td>NaN</td>\n      <td>Peter Thorwarth</td>\n      <td>Peri Baumeister, Carl Anton Koch, Alexander Sc...</td>\n    </tr>\n    <tr>\n      <th>1</th>\n      <td>Masters of the Universe: Revelation</td>\n      <td>(2021– )</td>\n      <td>Animation, Action, Adventure</td>\n      <td>5.0</td>\n      <td>The war for Eternia begins again in what may b...</td>\n      <td>Stars:Chris Wood, Sarah Michelle Gellar, Lena ...</td>\n      <td>17,870</td>\n      <td>25.0</td>\n      <td>NaN</td>\n      <td></td>\n      <td>Chris Wood, Sarah Michelle Gellar, Lena Headey...</td>\n    </tr>\n    <tr>\n      <th>2</th>\n      <td>The Walking Dead</td>\n      <td>(2010–2022)</td>\n      <td>Drama, Horror, Thriller</td>\n      <td>8.2</td>\n      <td>Sheriff Deputy Rick Grimes wakes up from a com...</td>\n      <td>Stars:Andrew Lincoln, Norman Reedus, Melissa M...</td>\n      <td>885,805</td>\n      <td>44.0</td>\n      <td>NaN</td>\n      <td></td>\n      <td>Andrew Lincoln, Norman Reedus, Melissa McBride...</td>\n    </tr>\n    <tr>\n      <th>3</th>\n      <td>Rick and Morty</td>\n      <td>(2013– )</td>\n      <td>Animation, Adventure, Comedy</td>\n      <td>9.2</td>\n      <td>An animated series that follows the exploits o...</td>\n      <td>Stars:Justin Roiland, Chris Parnell, Spencer G...</td>\n      <td>414,849</td>\n      <td>23.0</td>\n      <td>NaN</td>\n      <td></td>\n      <td>Justin Roiland, Chris Parnell, Spencer Grammer...</td>\n    </tr>\n    <tr>\n      <th>4</th>\n      <td>Army of Thieves</td>\n      <td>(2021)</td>\n      <td>Action, Crime, Horror</td>\n      <td>NaN</td>\n      <td>A prequel, set before the events of Army of th...</td>\n      <td>Director:Matthias Schweighöfer|     Stars:Matt...</td>\n      <td>NaN</td>\n      <td>NaN</td>\n      <td>NaN</td>\n      <td>Matthias Schweighöfer</td>\n      <td>Matthias Schweighöfer, Nathalie Emmanuel, Ruby...</td>\n    </tr>\n  </tbody>\n</table>\n</div>"
     },
     "execution_count": 57,
     "metadata": {},
     "output_type": "execute_result"
    }
   ],
   "source": [
    "df.head()"
   ],
   "metadata": {
    "collapsed": false
   }
  },
  {
   "cell_type": "code",
   "execution_count": 43,
   "metadata": {},
   "outputs": [
    {
     "data": {
      "text/plain": "            RATING      RunTime\ncount  8179.000000  7041.000000\nmean      6.921176    68.688539\nstd       1.220232    47.258056\nmin       1.100000     1.000000\n25%       6.200000    36.000000\n50%       7.100000    60.000000\n75%       7.800000    95.000000\nmax       9.900000   853.000000",
      "text/html": "<div>\n<style scoped>\n    .dataframe tbody tr th:only-of-type {\n        vertical-align: middle;\n    }\n\n    .dataframe tbody tr th {\n        vertical-align: top;\n    }\n\n    .dataframe thead th {\n        text-align: right;\n    }\n</style>\n<table border=\"1\" class=\"dataframe\">\n  <thead>\n    <tr style=\"text-align: right;\">\n      <th></th>\n      <th>RATING</th>\n      <th>RunTime</th>\n    </tr>\n  </thead>\n  <tbody>\n    <tr>\n      <th>count</th>\n      <td>8179.000000</td>\n      <td>7041.000000</td>\n    </tr>\n    <tr>\n      <th>mean</th>\n      <td>6.921176</td>\n      <td>68.688539</td>\n    </tr>\n    <tr>\n      <th>std</th>\n      <td>1.220232</td>\n      <td>47.258056</td>\n    </tr>\n    <tr>\n      <th>min</th>\n      <td>1.100000</td>\n      <td>1.000000</td>\n    </tr>\n    <tr>\n      <th>25%</th>\n      <td>6.200000</td>\n      <td>36.000000</td>\n    </tr>\n    <tr>\n      <th>50%</th>\n      <td>7.100000</td>\n      <td>60.000000</td>\n    </tr>\n    <tr>\n      <th>75%</th>\n      <td>7.800000</td>\n      <td>95.000000</td>\n    </tr>\n    <tr>\n      <th>max</th>\n      <td>9.900000</td>\n      <td>853.000000</td>\n    </tr>\n  </tbody>\n</table>\n</div>"
     },
     "execution_count": 43,
     "metadata": {},
     "output_type": "execute_result"
    }
   ],
   "source": [
    "df.describe()"
   ]
  }
 ],
 "metadata": {
  "kernelspec": {
   "display_name": ".venv",
   "language": "python",
   "name": "python3"
  },
  "language_info": {
   "codemirror_mode": {
    "name": "ipython",
    "version": 3
   },
   "file_extension": ".py",
   "mimetype": "text/x-python",
   "name": "python",
   "nbconvert_exporter": "python",
   "pygments_lexer": "ipython3",
   "version": "3.11.0"
  },
  "orig_nbformat": 4
 },
 "nbformat": 4,
 "nbformat_minor": 2
}
